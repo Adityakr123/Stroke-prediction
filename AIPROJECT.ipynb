{
  "nbformat": 4,
  "nbformat_minor": 0,
  "metadata": {
    "colab": {
      "name": "AIPROJECT.ipynb",
      "provenance": [],
      "collapsed_sections": []
    },
    "kernelspec": {
      "name": "python3",
      "display_name": "Python 3"
    },
    "language_info": {
      "name": "python"
    }
  },
  "cells": [
    {
      "cell_type": "markdown",
      "metadata": {
        "id": "nksIeGOMn6Yf"
      },
      "source": [
        "Importing Important Libraries"
      ]
    },
    {
      "cell_type": "code",
      "metadata": {
        "id": "HR4qrqsJn-sP"
      },
      "source": [
        "import numpy as np\n",
        "import pandas as pd\n",
        "from sklearn.model_selection import train_test_split\n",
        "from sklearn.linear_model import LogisticRegression\n",
        "from sklearn.metrics import accuracy_score"
      ],
      "execution_count": 2,
      "outputs": []
    },
    {
      "cell_type": "markdown",
      "metadata": {
        "id": "H1lcQBgxoE5T"
      },
      "source": [
        "DATA COLLECTION"
      ]
    },
    {
      "cell_type": "code",
      "metadata": {
        "id": "hKvpw4TMoG9t"
      },
      "source": [
        "stroke_data = pd.read_csv('/content/aiproject1.csv')"
      ],
      "execution_count": 3,
      "outputs": []
    },
    {
      "cell_type": "markdown",
      "metadata": {
        "id": "C_h_buMjpKK-"
      },
      "source": [
        "DATA PROCESSING"
      ]
    },
    {
      "cell_type": "code",
      "metadata": {
        "colab": {
          "base_uri": "https://localhost:8080/"
        },
        "id": "vfOHZiQvsiDZ",
        "outputId": "734589e1-cc85-4199-dce4-adacec292265"
      },
      "source": [
        "stroke_data.shape"
      ],
      "execution_count": 4,
      "outputs": [
        {
          "output_type": "execute_result",
          "data": {
            "text/plain": [
              "(547, 11)"
            ]
          },
          "metadata": {},
          "execution_count": 4
        }
      ]
    },
    {
      "cell_type": "code",
      "metadata": {
        "colab": {
          "base_uri": "https://localhost:8080/"
        },
        "id": "vQybiibDpNgX",
        "outputId": "fb0d8136-0e96-4656-db76-2c070a875011"
      },
      "source": [
        "stroke_data.info()"
      ],
      "execution_count": 5,
      "outputs": [
        {
          "output_type": "stream",
          "name": "stdout",
          "text": [
            "<class 'pandas.core.frame.DataFrame'>\n",
            "RangeIndex: 547 entries, 0 to 546\n",
            "Data columns (total 11 columns):\n",
            " #   Column             Non-Null Count  Dtype  \n",
            "---  ------             --------------  -----  \n",
            " 0   gender             547 non-null    int64  \n",
            " 1   age                547 non-null    float64\n",
            " 2   hypertension       547 non-null    int64  \n",
            " 3   heart_disease      547 non-null    int64  \n",
            " 4   ever_married       547 non-null    int64  \n",
            " 5   work_type          547 non-null    float64\n",
            " 6   Residence_type     547 non-null    int64  \n",
            " 7   avg_glucose_level  547 non-null    float64\n",
            " 8   bmi                501 non-null    float64\n",
            " 9   smoking_status     407 non-null    float64\n",
            " 10  stroke             547 non-null    int64  \n",
            "dtypes: float64(5), int64(6)\n",
            "memory usage: 47.1 KB\n"
          ]
        }
      ]
    },
    {
      "cell_type": "code",
      "metadata": {
        "colab": {
          "base_uri": "https://localhost:8080/"
        },
        "id": "6PmCuS62pa-T",
        "outputId": "318a7746-c90d-4f03-f6d8-c284cef2cda6"
      },
      "source": [
        "# checking for missing values\n",
        "stroke_data.isnull().sum()"
      ],
      "execution_count": 6,
      "outputs": [
        {
          "output_type": "execute_result",
          "data": {
            "text/plain": [
              "gender                 0\n",
              "age                    0\n",
              "hypertension           0\n",
              "heart_disease          0\n",
              "ever_married           0\n",
              "work_type              0\n",
              "Residence_type         0\n",
              "avg_glucose_level      0\n",
              "bmi                   46\n",
              "smoking_status       140\n",
              "stroke                 0\n",
              "dtype: int64"
            ]
          },
          "metadata": {},
          "execution_count": 6
        }
      ]
    },
    {
      "cell_type": "code",
      "metadata": {
        "id": "Xs6mqSOrsZmN"
      },
      "source": [
        "#deleting rows with missing values\n",
        "stroke_data=stroke_data.dropna(how=\"any\")\n",
        "\n"
      ],
      "execution_count": 7,
      "outputs": []
    },
    {
      "cell_type": "code",
      "metadata": {
        "colab": {
          "base_uri": "https://localhost:8080/"
        },
        "id": "o8mXQ7nyt8Da",
        "outputId": "65daa2a6-7936-4d38-a808-5d149e78cf9a"
      },
      "source": [
        "#cheking whether the above deletion was successful\n",
        "stroke_data.isnull().sum()\n"
      ],
      "execution_count": 8,
      "outputs": [
        {
          "output_type": "execute_result",
          "data": {
            "text/plain": [
              "gender               0\n",
              "age                  0\n",
              "hypertension         0\n",
              "heart_disease        0\n",
              "ever_married         0\n",
              "work_type            0\n",
              "Residence_type       0\n",
              "avg_glucose_level    0\n",
              "bmi                  0\n",
              "smoking_status       0\n",
              "stroke               0\n",
              "dtype: int64"
            ]
          },
          "metadata": {},
          "execution_count": 8
        }
      ]
    },
    {
      "cell_type": "code",
      "metadata": {
        "colab": {
          "base_uri": "https://localhost:8080/"
        },
        "id": "L9WuNszjt-xe",
        "outputId": "0b72a1b7-180e-4733-f42b-91e7fc5a61ec"
      },
      "source": [
        "stroke_data.info()"
      ],
      "execution_count": 9,
      "outputs": [
        {
          "output_type": "stream",
          "name": "stdout",
          "text": [
            "<class 'pandas.core.frame.DataFrame'>\n",
            "Int64Index: 380 entries, 0 to 544\n",
            "Data columns (total 11 columns):\n",
            " #   Column             Non-Null Count  Dtype  \n",
            "---  ------             --------------  -----  \n",
            " 0   gender             380 non-null    int64  \n",
            " 1   age                380 non-null    float64\n",
            " 2   hypertension       380 non-null    int64  \n",
            " 3   heart_disease      380 non-null    int64  \n",
            " 4   ever_married       380 non-null    int64  \n",
            " 5   work_type          380 non-null    float64\n",
            " 6   Residence_type     380 non-null    int64  \n",
            " 7   avg_glucose_level  380 non-null    float64\n",
            " 8   bmi                380 non-null    float64\n",
            " 9   smoking_status     380 non-null    float64\n",
            " 10  stroke             380 non-null    int64  \n",
            "dtypes: float64(5), int64(6)\n",
            "memory usage: 35.6 KB\n"
          ]
        }
      ]
    },
    {
      "cell_type": "code",
      "metadata": {
        "colab": {
          "base_uri": "https://localhost:8080/"
        },
        "id": "s9k4Od1gul89",
        "outputId": "9d3f4628-65f0-42cb-cd64-6985d1bef5e4"
      },
      "source": [
        "#getting the final shape\n",
        "stroke_data.shape\n"
      ],
      "execution_count": 10,
      "outputs": [
        {
          "output_type": "execute_result",
          "data": {
            "text/plain": [
              "(380, 11)"
            ]
          },
          "metadata": {},
          "execution_count": 10
        }
      ]
    },
    {
      "cell_type": "code",
      "metadata": {
        "colab": {
          "base_uri": "https://localhost:8080/"
        },
        "id": "HtEBb_nLupzw",
        "outputId": "15d5af02-6b86-4eaf-eede-3d063d6eb165"
      },
      "source": [
        "# checking the distribution of Target Variable\n",
        "stroke_data['stroke'].value_counts()"
      ],
      "execution_count": 11,
      "outputs": [
        {
          "output_type": "execute_result",
          "data": {
            "text/plain": [
              "0    200\n",
              "1    180\n",
              "Name: stroke, dtype: int64"
            ]
          },
          "metadata": {},
          "execution_count": 11
        }
      ]
    },
    {
      "cell_type": "code",
      "metadata": {
        "colab": {
          "base_uri": "https://localhost:8080/",
          "height": 317
        },
        "id": "UqinFoA6QSUn",
        "outputId": "c3c3b8ab-0982-4255-b1d1-e713023fd5aa"
      },
      "source": [
        "# statistical measures about the data\n",
        "stroke_data.describe()"
      ],
      "execution_count": 12,
      "outputs": [
        {
          "output_type": "execute_result",
          "data": {
            "text/html": [
              "<div>\n",
              "<style scoped>\n",
              "    .dataframe tbody tr th:only-of-type {\n",
              "        vertical-align: middle;\n",
              "    }\n",
              "\n",
              "    .dataframe tbody tr th {\n",
              "        vertical-align: top;\n",
              "    }\n",
              "\n",
              "    .dataframe thead th {\n",
              "        text-align: right;\n",
              "    }\n",
              "</style>\n",
              "<table border=\"1\" class=\"dataframe\">\n",
              "  <thead>\n",
              "    <tr style=\"text-align: right;\">\n",
              "      <th></th>\n",
              "      <th>gender</th>\n",
              "      <th>age</th>\n",
              "      <th>hypertension</th>\n",
              "      <th>heart_disease</th>\n",
              "      <th>ever_married</th>\n",
              "      <th>work_type</th>\n",
              "      <th>Residence_type</th>\n",
              "      <th>avg_glucose_level</th>\n",
              "      <th>bmi</th>\n",
              "      <th>smoking_status</th>\n",
              "      <th>stroke</th>\n",
              "    </tr>\n",
              "  </thead>\n",
              "  <tbody>\n",
              "    <tr>\n",
              "      <th>count</th>\n",
              "      <td>380.000000</td>\n",
              "      <td>380.000000</td>\n",
              "      <td>380.000000</td>\n",
              "      <td>380.000000</td>\n",
              "      <td>380.000000</td>\n",
              "      <td>380.000000</td>\n",
              "      <td>380.000000</td>\n",
              "      <td>380.000000</td>\n",
              "      <td>380.000000</td>\n",
              "      <td>380.000000</td>\n",
              "      <td>380.000000</td>\n",
              "    </tr>\n",
              "    <tr>\n",
              "      <th>mean</th>\n",
              "      <td>0.371053</td>\n",
              "      <td>57.052632</td>\n",
              "      <td>0.213158</td>\n",
              "      <td>0.123684</td>\n",
              "      <td>0.826316</td>\n",
              "      <td>0.473684</td>\n",
              "      <td>0.502632</td>\n",
              "      <td>124.113711</td>\n",
              "      <td>31.289474</td>\n",
              "      <td>0.360526</td>\n",
              "      <td>0.473684</td>\n",
              "    </tr>\n",
              "    <tr>\n",
              "      <th>std</th>\n",
              "      <td>0.483723</td>\n",
              "      <td>18.812991</td>\n",
              "      <td>0.410078</td>\n",
              "      <td>0.329655</td>\n",
              "      <td>0.379337</td>\n",
              "      <td>0.331849</td>\n",
              "      <td>0.500652</td>\n",
              "      <td>58.128076</td>\n",
              "      <td>7.723759</td>\n",
              "      <td>0.403180</td>\n",
              "      <td>0.499965</td>\n",
              "    </tr>\n",
              "    <tr>\n",
              "      <th>min</th>\n",
              "      <td>0.000000</td>\n",
              "      <td>12.000000</td>\n",
              "      <td>0.000000</td>\n",
              "      <td>0.000000</td>\n",
              "      <td>0.000000</td>\n",
              "      <td>0.000000</td>\n",
              "      <td>0.000000</td>\n",
              "      <td>55.780000</td>\n",
              "      <td>15.300000</td>\n",
              "      <td>0.000000</td>\n",
              "      <td>0.000000</td>\n",
              "    </tr>\n",
              "    <tr>\n",
              "      <th>25%</th>\n",
              "      <td>0.000000</td>\n",
              "      <td>43.000000</td>\n",
              "      <td>0.000000</td>\n",
              "      <td>0.000000</td>\n",
              "      <td>1.000000</td>\n",
              "      <td>0.500000</td>\n",
              "      <td>0.000000</td>\n",
              "      <td>79.085000</td>\n",
              "      <td>26.300000</td>\n",
              "      <td>0.000000</td>\n",
              "      <td>0.000000</td>\n",
              "    </tr>\n",
              "    <tr>\n",
              "      <th>50%</th>\n",
              "      <td>0.000000</td>\n",
              "      <td>59.000000</td>\n",
              "      <td>0.000000</td>\n",
              "      <td>0.000000</td>\n",
              "      <td>1.000000</td>\n",
              "      <td>0.500000</td>\n",
              "      <td>1.000000</td>\n",
              "      <td>99.565000</td>\n",
              "      <td>29.850000</td>\n",
              "      <td>0.000000</td>\n",
              "      <td>0.000000</td>\n",
              "    </tr>\n",
              "    <tr>\n",
              "      <th>75%</th>\n",
              "      <td>1.000000</td>\n",
              "      <td>73.250000</td>\n",
              "      <td>0.000000</td>\n",
              "      <td>0.000000</td>\n",
              "      <td>1.000000</td>\n",
              "      <td>0.500000</td>\n",
              "      <td>1.000000</td>\n",
              "      <td>179.497500</td>\n",
              "      <td>35.525000</td>\n",
              "      <td>0.500000</td>\n",
              "      <td>1.000000</td>\n",
              "    </tr>\n",
              "    <tr>\n",
              "      <th>max</th>\n",
              "      <td>1.000000</td>\n",
              "      <td>82.000000</td>\n",
              "      <td>1.000000</td>\n",
              "      <td>1.000000</td>\n",
              "      <td>1.000000</td>\n",
              "      <td>2.000000</td>\n",
              "      <td>1.000000</td>\n",
              "      <td>271.740000</td>\n",
              "      <td>71.900000</td>\n",
              "      <td>1.000000</td>\n",
              "      <td>1.000000</td>\n",
              "    </tr>\n",
              "  </tbody>\n",
              "</table>\n",
              "</div>"
            ],
            "text/plain": [
              "           gender         age  ...  smoking_status      stroke\n",
              "count  380.000000  380.000000  ...      380.000000  380.000000\n",
              "mean     0.371053   57.052632  ...        0.360526    0.473684\n",
              "std      0.483723   18.812991  ...        0.403180    0.499965\n",
              "min      0.000000   12.000000  ...        0.000000    0.000000\n",
              "25%      0.000000   43.000000  ...        0.000000    0.000000\n",
              "50%      0.000000   59.000000  ...        0.000000    0.000000\n",
              "75%      1.000000   73.250000  ...        0.500000    1.000000\n",
              "max      1.000000   82.000000  ...        1.000000    1.000000\n",
              "\n",
              "[8 rows x 11 columns]"
            ]
          },
          "metadata": {},
          "execution_count": 12
        }
      ]
    },
    {
      "cell_type": "markdown",
      "metadata": {
        "id": "z9BMp8miQaKG"
      },
      "source": [
        "NOW SPLITING DATA INTO FEATURES AND TARGET"
      ]
    },
    {
      "cell_type": "code",
      "metadata": {
        "id": "8p8NVPPqQlGX"
      },
      "source": [
        "X = stroke_data.drop(columns='stroke', axis=1)\n",
        "Y = stroke_data['stroke']"
      ],
      "execution_count": 13,
      "outputs": []
    },
    {
      "cell_type": "code",
      "metadata": {
        "colab": {
          "base_uri": "https://localhost:8080/"
        },
        "id": "TpL7p52jQu6m",
        "outputId": "a6aab5d0-3b8d-40e6-bfcb-5c00177e5ab6"
      },
      "source": [
        "#printing features \n",
        "print(X)"
      ],
      "execution_count": 14,
      "outputs": [
        {
          "output_type": "stream",
          "name": "stdout",
          "text": [
            "     gender   age  hypertension  ...  avg_glucose_level   bmi  smoking_status\n",
            "0         1  67.0             0  ...             228.69  36.6             0.5\n",
            "2         1  80.0             0  ...             105.92  32.5             0.0\n",
            "3         0  49.0             0  ...             171.23  34.4             1.0\n",
            "4         0  79.0             1  ...             174.12  24.0             0.0\n",
            "5         1  81.0             0  ...             186.21  29.0             0.5\n",
            "..      ...   ...           ...  ...                ...   ...             ...\n",
            "538       0  16.0             0  ...             155.43  27.3             0.0\n",
            "540       0  30.0             0  ...              80.19  20.4             0.0\n",
            "541       1  29.0             0  ...              60.34  29.6             0.5\n",
            "542       0  54.0             0  ...              79.30  30.6             0.5\n",
            "544       1  42.0             0  ...             210.48  71.9             0.0\n",
            "\n",
            "[380 rows x 10 columns]\n"
          ]
        }
      ]
    },
    {
      "cell_type": "code",
      "metadata": {
        "colab": {
          "base_uri": "https://localhost:8080/"
        },
        "id": "7zhDeV2yQz5J",
        "outputId": "59e2478a-367e-42b8-cda7-35454d417fb7"
      },
      "source": [
        "#printing target variable\n",
        "print(Y)\n"
      ],
      "execution_count": 15,
      "outputs": [
        {
          "output_type": "stream",
          "name": "stdout",
          "text": [
            "0      1\n",
            "2      1\n",
            "3      1\n",
            "4      1\n",
            "5      1\n",
            "      ..\n",
            "538    0\n",
            "540    0\n",
            "541    0\n",
            "542    0\n",
            "544    0\n",
            "Name: stroke, Length: 380, dtype: int64\n"
          ]
        }
      ]
    },
    {
      "cell_type": "markdown",
      "metadata": {
        "id": "n223iyL1RD70"
      },
      "source": [
        "Splitting the Data into Training data & Test Data\n"
      ]
    },
    {
      "cell_type": "code",
      "metadata": {
        "id": "2UN89Cr3RGKJ"
      },
      "source": [
        "X_train, X_test, Y_train, Y_test = train_test_split(X, Y, test_size=0.2, stratify=Y, random_state=2)"
      ],
      "execution_count": 16,
      "outputs": []
    },
    {
      "cell_type": "code",
      "metadata": {
        "colab": {
          "base_uri": "https://localhost:8080/"
        },
        "id": "88wOLuzCRIxP",
        "outputId": "00f876c9-32b4-4e10-895a-a6fecd361349"
      },
      "source": [
        "print(X.shape, X_train.shape, X_test.shape)"
      ],
      "execution_count": 17,
      "outputs": [
        {
          "output_type": "stream",
          "name": "stdout",
          "text": [
            "(380, 10) (304, 10) (76, 10)\n"
          ]
        }
      ]
    },
    {
      "cell_type": "markdown",
      "metadata": {
        "id": "nQHum6_iRNAs"
      },
      "source": [
        "NOW AS WE SELECTED THE LOGISTIC REGRESSION MODEL:-\n",
        "\n",
        "SO NOW THE MODEL TRAINING WITH THE TRAINING DATA"
      ]
    },
    {
      "cell_type": "code",
      "metadata": {
        "id": "nN4Dc7SiRfG2"
      },
      "source": [
        "selected_model = LogisticRegression()"
      ],
      "execution_count": 18,
      "outputs": []
    },
    {
      "cell_type": "code",
      "metadata": {
        "colab": {
          "base_uri": "https://localhost:8080/"
        },
        "id": "Jsc8PZdNRiMs",
        "outputId": "8065e4f5-ca17-470b-8435-02324e895b8a"
      },
      "source": [
        "selected_model.fit(X_train, Y_train)"
      ],
      "execution_count": 19,
      "outputs": [
        {
          "output_type": "stream",
          "name": "stderr",
          "text": [
            "/usr/local/lib/python3.7/dist-packages/sklearn/linear_model/_logistic.py:940: ConvergenceWarning: lbfgs failed to converge (status=1):\n",
            "STOP: TOTAL NO. of ITERATIONS REACHED LIMIT.\n",
            "\n",
            "Increase the number of iterations (max_iter) or scale the data as shown in:\n",
            "    https://scikit-learn.org/stable/modules/preprocessing.html\n",
            "Please also refer to the documentation for alternative solver options:\n",
            "    https://scikit-learn.org/stable/modules/linear_model.html#logistic-regression\n",
            "  extra_warning_msg=_LOGISTIC_SOLVER_CONVERGENCE_MSG)\n"
          ]
        },
        {
          "output_type": "execute_result",
          "data": {
            "text/plain": [
              "LogisticRegression(C=1.0, class_weight=None, dual=False, fit_intercept=True,\n",
              "                   intercept_scaling=1, l1_ratio=None, max_iter=100,\n",
              "                   multi_class='auto', n_jobs=None, penalty='l2',\n",
              "                   random_state=None, solver='lbfgs', tol=0.0001, verbose=0,\n",
              "                   warm_start=False)"
            ]
          },
          "metadata": {},
          "execution_count": 19
        }
      ]
    },
    {
      "cell_type": "markdown",
      "metadata": {
        "id": "BUGI6zojRq_i"
      },
      "source": [
        "NOW FINDING THE ACCURACY OF THE MODEL"
      ]
    },
    {
      "cell_type": "code",
      "metadata": {
        "id": "iPf63v8ZR0Z4"
      },
      "source": [
        "#first testing for training data\n",
        "X_train_prediction = selected_model.predict(X_train)\n",
        "training_data_accuracy = accuracy_score(X_train_prediction, Y_train)"
      ],
      "execution_count": 20,
      "outputs": []
    },
    {
      "cell_type": "code",
      "metadata": {
        "colab": {
          "base_uri": "https://localhost:8080/"
        },
        "id": "hqVhyeptR9Z5",
        "outputId": "e9196f02-0a15-4596-dfbf-e3f5b5aab82f"
      },
      "source": [
        "print('Accuracy on Training data : ', training_data_accuracy)"
      ],
      "execution_count": 21,
      "outputs": [
        {
          "output_type": "stream",
          "name": "stdout",
          "text": [
            "Accuracy on Training data :  0.7335526315789473\n"
          ]
        }
      ]
    },
    {
      "cell_type": "code",
      "metadata": {
        "id": "JqtHirIlSE1E"
      },
      "source": [
        "#first testing for training data\n",
        "\n",
        "X_test_prediction = selected_model.predict(X_test)\n",
        "test_data_accuracy = accuracy_score(X_test_prediction, Y_test)"
      ],
      "execution_count": 22,
      "outputs": []
    },
    {
      "cell_type": "code",
      "metadata": {
        "colab": {
          "base_uri": "https://localhost:8080/"
        },
        "id": "IaNhH0idSJbY",
        "outputId": "f203e1d7-b38b-4cca-b0dc-fef0c298b552"
      },
      "source": [
        "print('Accuracy on Test data : ', test_data_accuracy)"
      ],
      "execution_count": 23,
      "outputs": [
        {
          "output_type": "stream",
          "name": "stdout",
          "text": [
            "Accuracy on Test data :  0.7236842105263158\n"
          ]
        }
      ]
    },
    {
      "cell_type": "code",
      "metadata": {
        "colab": {
          "base_uri": "https://localhost:8080/"
        },
        "id": "yoDilitfSPEM",
        "outputId": "7a4f5461-0de5-4a64-86cc-ac4928dfff5a"
      },
      "source": [
        "\n",
        "a=input(\"Enter your gender \\nFor Male type M \\nFor Female type F\\n\")\n",
        "if a==\"M\":\n",
        "  a=1\n",
        "elif a==\"F\":\n",
        "  a=0\n",
        "# print(type(a),a)\n",
        "# # else:\n",
        "# #   a=input(\"Enter your gender \\nFor Male type M \\nFor Female type F\\n\")\n",
        "\n",
        "b=input(\"Do you have hypertension  \\nFor yes type Y \\nFor Not hypertension type N\\n\")\n",
        "if b==\"Y\":\n",
        "  b=1\n",
        "elif b==\"N\":\n",
        "  b=0\n",
        "# print(type(b),b)\n",
        "c=input(\"Do you have heartdisease  \\nFor yes type Y \\nFor heartdisease Not  type N\\n\")\n",
        "if c==\"Y\":\n",
        "  c=1\n",
        "elif c==\"N\":\n",
        "  c=0\n",
        "# print(type(c),c)\n",
        "d=input(\"Is you Married \\nFor Married type M \\nFor NotMarried type N\\n\")\n",
        "if d==\"M\":\n",
        "  d=1\n",
        "elif d==\"N\":\n",
        "  d=0\n",
        "# print(type(d),d)\n",
        "e=input(\"Enter your type of work \\nFor Govt type G \\nFor Private type P\\nFor selfemployed type S\\n\")\n",
        "if e==\"G\":\n",
        "  e=1\n",
        "elif e==\"P\":\n",
        "  e=0.5\n",
        "elif e==\"S\":\n",
        "  e=0\n",
        "print(type(e),e)\n",
        "f=float(input(\"Enter your average glucose level\\n\"))\n",
        "g=float(input(\"Enter your average BMI\\n\"))\n",
        "h=input(\"Do your Smoke\\nIf you smoke regularly  type R \\nFor formerly smoking type F\\nFor never smoked type N\\n\")\n",
        "if h==\"R\":\n",
        "  h=1\n",
        "elif h==\"F\":\n",
        "  h=0.5\n",
        "elif h==\"N\":\n",
        "  h=0\n",
        "i=int(input(\"Enter ur age \\n\"))\n",
        "\n",
        "# input_data = (a,i,b,c,d,e,f,g,h)\n",
        "input_data = (a,i,b,c,d,e,1,f,g,h)\n",
        "# change the input data to a numpy array\n",
        "input_data_as_numpy_array= np.asarray(input_data)\n",
        "\n",
        "# reshape the numpy array as we are predicting for only on instance\n",
        "input_data_reshaped = input_data_as_numpy_array.reshape(1,-1)\n",
        "\n",
        "prediction = selected_model.predict(input_data_reshaped)\n",
        "print(prediction)\n",
        "\n",
        "if (prediction[0]== 0):\n",
        "  print('You cannot have stroke')\n",
        "else:\n",
        "  print('You can have  stroke')\n",
        "\n",
        "\n"
      ],
      "execution_count": 32,
      "outputs": [
        {
          "output_type": "stream",
          "name": "stdout",
          "text": [
            "Enter your gender \n",
            "For Male type M \n",
            "For Female type F\n",
            "M\n",
            "Do you have hypertension  \n",
            "For yes type Y \n",
            "For Not hypertension type N\n",
            "N\n",
            "Do you have heartdisease  \n",
            "For yes type Y \n",
            "For heartdisease Not  type N\n",
            "N\n",
            "Is you Married \n",
            "For Married type M \n",
            "For NotMarried type N\n",
            "N\n",
            "Enter your type of work \n",
            "For Govt type G \n",
            "For Private type P\n",
            "For selfemployed type S\n",
            "P\n",
            "<class 'float'> 0.5\n",
            "Enter your average glucose level\n",
            "105\n",
            "Enter your average BMI\n",
            "45\n",
            "Do your Smoke\n",
            "If you smoke regularly  type R \n",
            "For formerly smoking type F\n",
            "For never smoked type N\n",
            "N\n",
            "Enter ur age \n",
            "19\n",
            "[0]\n",
            "The Person cannot have stroke\n"
          ]
        }
      ]
    },
    {
      "cell_type": "code",
      "metadata": {
        "id": "gREKQazSSt1z"
      },
      "source": [
        ""
      ],
      "execution_count": null,
      "outputs": []
    }
  ]
}